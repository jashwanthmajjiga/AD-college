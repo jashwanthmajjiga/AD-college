{
 "cells": [
  {
   "cell_type": "code",
   "execution_count": 177,
   "id": "a4027b81-a708-47ee-b832-87f0f861912c",
   "metadata": {},
   "outputs": [],
   "source": [
    "a=10\n",
    "b=20\n",
    "c=a+b"
   ]
  },
  {
   "cell_type": "code",
   "execution_count": 179,
   "id": "9848ff60-abb0-4fe2-9c5a-20d1a68a4319",
   "metadata": {},
   "outputs": [],
   "source": [
    "c= a+b\n",
    "\n"
   ]
  },
  {
   "cell_type": "code",
   "execution_count": 181,
   "id": "3bc7f6d5-c68d-49ff-8374-eae133f56e6b",
   "metadata": {
    "panel-layout": {
     "height": 27.137500762939453,
     "visible": true,
     "width": 100
    }
   },
   "outputs": [
    {
     "data": {
      "text/plain": [
       "-10"
      ]
     },
     "execution_count": 181,
     "metadata": {},
     "output_type": "execute_result"
    }
   ],
   "source": [
    "a-b"
   ]
  },
  {
   "cell_type": "code",
   "execution_count": 19,
   "id": "19532ef7-08db-413f-b4d1-24fc0eae6b80",
   "metadata": {
    "panel-layout": {
     "height": 27.137500762939453,
     "visible": true,
     "width": 100
    }
   },
   "outputs": [
    {
     "data": {
      "text/plain": [
       "36"
      ]
     },
     "execution_count": 19,
     "metadata": {},
     "output_type": "execute_result"
    }
   ],
   "source": [
    "a//b"
   ]
  },
  {
   "cell_type": "code",
   "execution_count": 35,
   "id": "e80e8550-e793-4a99-bd8b-f9fb693bc257",
   "metadata": {},
   "outputs": [],
   "source": [
    "c=a/b\n",
    "\n"
   ]
  },
  {
   "cell_type": "code",
   "execution_count": 23,
   "id": "28510433-aaf2-4b48-baa7-f8ee3fceec6e",
   "metadata": {
    "panel-layout": {
     "height": 27.137500762939453,
     "visible": true,
     "width": 100
    }
   },
   "outputs": [
    {
     "data": {
      "text/plain": [
       "1295029"
      ]
     },
     "execution_count": 23,
     "metadata": {},
     "output_type": "execute_result"
    }
   ],
   "source": [
    "a**b"
   ]
  },
  {
   "cell_type": "code",
   "execution_count": 25,
   "id": "cb4b6f84-d121-4d80-b02d-e2c7a190fd05",
   "metadata": {},
   "outputs": [],
   "source": [
    "a=109\n",
    "b=3\n"
   ]
  },
  {
   "cell_type": "code",
   "execution_count": 37,
   "id": "9c7d77d6-0a64-4959-b799-71939ad4e62f",
   "metadata": {
    "panel-layout": {
     "height": 10,
     "visible": true,
     "width": 100
    }
   },
   "outputs": [
    {
     "data": {
      "text/plain": [
       "float"
      ]
     },
     "execution_count": 37,
     "metadata": {},
     "output_type": "execute_result"
    }
   ],
   "source": [
    "type(c)"
   ]
  },
  {
   "cell_type": "code",
   "execution_count": 47,
   "id": "ec9f8cf6-be49-44bc-b2e0-5265b2c7bacd",
   "metadata": {},
   "outputs": [],
   "source": [
    "d=a*b\n",
    "\n"
   ]
  },
  {
   "cell_type": "code",
   "execution_count": 49,
   "id": "06e5418a-a19b-4e70-98ff-fff41b5a65de",
   "metadata": {
    "panel-layout": {
     "height": 10,
     "visible": true,
     "width": 100
    }
   },
   "outputs": [
    {
     "data": {
      "text/plain": [
       "float"
      ]
     },
     "execution_count": 49,
     "metadata": {},
     "output_type": "execute_result"
    }
   ],
   "source": [
    "type(d)"
   ]
  },
  {
   "cell_type": "code",
   "execution_count": 57,
   "id": "a761a7ac-000c-47fc-90ed-51be7340add8",
   "metadata": {},
   "outputs": [],
   "source": [
    "a=12\n",
    "b=2\n"
   ]
  },
  {
   "cell_type": "code",
   "execution_count": 65,
   "id": "23cda1ec-96f8-483a-8370-c290d420f2bf",
   "metadata": {
    "panel-layout": {
     "height": 27.137500762939453,
     "visible": true,
     "width": 100
    }
   },
   "outputs": [
    {
     "data": {
      "text/plain": [
       "6012"
      ]
     },
     "execution_count": 65,
     "metadata": {},
     "output_type": "execute_result"
    }
   ],
   "source": [
    "a+b*30*100"
   ]
  },
  {
   "cell_type": "code",
   "execution_count": 150,
   "id": "5936a81a-73b6-4877-a269-7c7b2e6e7db7",
   "metadata": {
    "panel-layout": {
     "height": 27.137500762939453,
     "visible": true,
     "width": 100
    }
   },
   "outputs": [
    {
     "data": {
      "text/plain": [
       "False"
      ]
     },
     "execution_count": 150,
     "metadata": {},
     "output_type": "execute_result"
    }
   ],
   "source": [
    "a<b"
   ]
  },
  {
   "cell_type": "code",
   "execution_count": 152,
   "id": "999c61ba-386d-428e-b36a-463b058f5a7e",
   "metadata": {
    "panel-layout": {
     "height": 27.137500762939453,
     "visible": true,
     "width": 100
    }
   },
   "outputs": [
    {
     "data": {
      "text/plain": [
       "True"
      ]
     },
     "execution_count": 152,
     "metadata": {},
     "output_type": "execute_result"
    }
   ],
   "source": [
    "b<a\n",
    "\n"
   ]
  },
  {
   "cell_type": "code",
   "execution_count": 154,
   "id": "c57aa394-284d-442f-9a6e-f0632496f403",
   "metadata": {
    "panel-layout": {
     "height": 27.137500762939453,
     "visible": true,
     "width": 100
    }
   },
   "outputs": [
    {
     "data": {
      "text/plain": [
       "False"
      ]
     },
     "execution_count": 154,
     "metadata": {},
     "output_type": "execute_result"
    }
   ],
   "source": [
    "b+2==a"
   ]
  },
  {
   "cell_type": "code",
   "execution_count": 156,
   "id": "eb85cc4d-b6de-4824-b214-0441979cbbff",
   "metadata": {},
   "outputs": [],
   "source": [
    "a=b\n",
    "\n"
   ]
  },
  {
   "cell_type": "code",
   "execution_count": 158,
   "id": "d4e68d21-9823-449f-9008-116ce93bd533",
   "metadata": {
    "panel-layout": {
     "height": 27.137500762939453,
     "visible": true,
     "width": 100
    }
   },
   "outputs": [
    {
     "data": {
      "text/plain": [
       "True"
      ]
     },
     "execution_count": 158,
     "metadata": {},
     "output_type": "execute_result"
    }
   ],
   "source": [
    "a==b"
   ]
  },
  {
   "cell_type": "code",
   "execution_count": 160,
   "id": "44b62440-cabf-4531-a832-0b5a5166a764",
   "metadata": {
    "panel-layout": {
     "height": 27.137500762939453,
     "visible": true,
     "width": 100
    }
   },
   "outputs": [
    {
     "data": {
      "text/plain": [
       "True"
      ]
     },
     "execution_count": 160,
     "metadata": {},
     "output_type": "execute_result"
    }
   ],
   "source": [
    "a<=b"
   ]
  },
  {
   "cell_type": "code",
   "execution_count": 162,
   "id": "d25374a0-e14c-4ce4-851e-b03bce6a81f8",
   "metadata": {
    "panel-layout": {
     "height": 27.137500762939453,
     "visible": true,
     "width": 100
    }
   },
   "outputs": [
    {
     "data": {
      "text/plain": [
       "True"
      ]
     },
     "execution_count": 162,
     "metadata": {},
     "output_type": "execute_result"
    }
   ],
   "source": [
    "a>=b"
   ]
  },
  {
   "cell_type": "code",
   "execution_count": 164,
   "id": "653604f8-10e9-47fa-b04e-49589f0460b8",
   "metadata": {
    "panel-layout": {
     "height": 27.137500762939453,
     "visible": true,
     "width": 100
    }
   },
   "outputs": [
    {
     "data": {
      "text/plain": [
       "False"
      ]
     },
     "execution_count": 164,
     "metadata": {},
     "output_type": "execute_result"
    }
   ],
   "source": [
    "a>b"
   ]
  },
  {
   "cell_type": "code",
   "execution_count": 166,
   "id": "090ade8c-efa1-4448-9f7f-da85db3967a9",
   "metadata": {
    "panel-layout": {
     "height": 27.137500762939453,
     "visible": true,
     "width": 100
    }
   },
   "outputs": [
    {
     "data": {
      "text/plain": [
       "False"
      ]
     },
     "execution_count": 166,
     "metadata": {},
     "output_type": "execute_result"
    }
   ],
   "source": [
    "a<b\n",
    "\n"
   ]
  },
  {
   "cell_type": "code",
   "execution_count": 168,
   "id": "a469346b-c5d1-4e4e-8913-ebab552dc49c",
   "metadata": {},
   "outputs": [],
   "source": [
    "a=15"
   ]
  },
  {
   "cell_type": "code",
   "execution_count": 170,
   "id": "53188732-7d1f-4c68-aff3-8136f24adda0",
   "metadata": {
    "panel-layout": {
     "height": 27.137500762939453,
     "visible": true,
     "width": 100
    }
   },
   "outputs": [
    {
     "data": {
      "text/plain": [
       "12"
      ]
     },
     "execution_count": 170,
     "metadata": {},
     "output_type": "execute_result"
    }
   ],
   "source": [
    "b\n"
   ]
  },
  {
   "cell_type": "code",
   "execution_count": 172,
   "id": "41c1f365-8eb6-46ba-bb40-81156b80fd88",
   "metadata": {
    "panel-layout": {
     "height": 27.137500762939453,
     "visible": true,
     "width": 100
    }
   },
   "outputs": [
    {
     "data": {
      "text/plain": [
       "15"
      ]
     },
     "execution_count": 172,
     "metadata": {},
     "output_type": "execute_result"
    }
   ],
   "source": [
    "a"
   ]
  },
  {
   "cell_type": "code",
   "execution_count": 183,
   "id": "c4894563-23b8-42c6-b417-2b937cae5c41",
   "metadata": {},
   "outputs": [
    {
     "data": {
      "text/plain": [
       "False"
      ]
     },
     "execution_count": 183,
     "metadata": {},
     "output_type": "execute_result"
    }
   ],
   "source": [
    "d>=10 and d<=100"
   ]
  },
  {
   "cell_type": "code",
   "execution_count": 193,
   "id": "7aea6fd6-59d9-4e26-b355-3bdea1f08f82",
   "metadata": {},
   "outputs": [
    {
     "data": {
      "text/plain": [
       "True"
      ]
     },
     "execution_count": 193,
     "metadata": {},
     "output_type": "execute_result"
    }
   ],
   "source": [
    "not a>b"
   ]
  },
  {
   "cell_type": "code",
   "execution_count": 195,
   "id": "66c5fde7-ed4f-44e0-8cc0-aeb886104359",
   "metadata": {},
   "outputs": [
    {
     "data": {
      "text/plain": [
       "False"
      ]
     },
     "execution_count": 195,
     "metadata": {},
     "output_type": "execute_result"
    }
   ],
   "source": [
    "a>b"
   ]
  },
  {
   "cell_type": "code",
   "execution_count": 205,
   "id": "60c15bb2-69b3-4c67-8796-2b021ccb4db0",
   "metadata": {},
   "outputs": [
    {
     "data": {
      "text/plain": [
       "True"
      ]
     },
     "execution_count": 205,
     "metadata": {},
     "output_type": "execute_result"
    }
   ],
   "source": [
    "d>=8.9 and d<=9.9"
   ]
  },
  {
   "cell_type": "code",
   "execution_count": 201,
   "id": "3912a4f6-7009-4505-895d-da45d56704c7",
   "metadata": {},
   "outputs": [],
   "source": [
    "d=8.95"
   ]
  },
  {
   "cell_type": "code",
   "execution_count": 207,
   "id": "d87996ee-cbda-48d3-bbaa-8fda0f736797",
   "metadata": {},
   "outputs": [
    {
     "data": {
      "text/plain": [
       "8.95"
      ]
     },
     "execution_count": 207,
     "metadata": {},
     "output_type": "execute_result"
    }
   ],
   "source": [
    "d"
   ]
  },
  {
   "cell_type": "code",
   "execution_count": 209,
   "id": "bb7a233f-274b-4c76-9574-9999ee442022",
   "metadata": {},
   "outputs": [],
   "source": [
    "d=9.25\n",
    "\n"
   ]
  },
  {
   "cell_type": "code",
   "execution_count": 211,
   "id": "9863757e-8399-404f-86da-25829a8fa39d",
   "metadata": {},
   "outputs": [
    {
     "data": {
      "text/plain": [
       "9.25"
      ]
     },
     "execution_count": 211,
     "metadata": {},
     "output_type": "execute_result"
    }
   ],
   "source": [
    "d"
   ]
  },
  {
   "cell_type": "code",
   "execution_count": 213,
   "id": "cd4d4447-e69c-450a-971a-8afd1889e761",
   "metadata": {},
   "outputs": [
    {
     "ename": "NameError",
     "evalue": "name 'D' is not defined",
     "output_type": "error",
     "traceback": [
      "\u001b[1;31m---------------------------------------------------------------------------\u001b[0m",
      "\u001b[1;31mNameError\u001b[0m                                 Traceback (most recent call last)",
      "Cell \u001b[1;32mIn[213], line 1\u001b[0m\n\u001b[1;32m----> 1\u001b[0m D\n",
      "\u001b[1;31mNameError\u001b[0m: name 'D' is not defined"
     ]
    }
   ],
   "source": [
    "D"
   ]
  },
  {
   "cell_type": "code",
   "execution_count": 215,
   "id": "0a044992-e2bb-4217-a516-55352f01632c",
   "metadata": {},
   "outputs": [
    {
     "data": {
      "text/plain": [
       "9.25"
      ]
     },
     "execution_count": 215,
     "metadata": {},
     "output_type": "execute_result"
    }
   ],
   "source": [
    "d"
   ]
  },
  {
   "cell_type": "code",
   "execution_count": 17,
   "id": "acfa4cc8-d49f-47dc-8819-9dce25d75d77",
   "metadata": {},
   "outputs": [],
   "source": [
    "cgpa=9"
   ]
  },
  {
   "cell_type": "code",
   "execution_count": 35,
   "id": "b4a160db-aa8e-43d2-a92b-af4908d68195",
   "metadata": {},
   "outputs": [
    {
     "name": "stdout",
     "output_type": "stream",
     "text": [
      "A grade\n"
     ]
    }
   ],
   "source": [
    "cgpa>=9.0 and cgpa<=10 #A\n",
    "print(\"A grade\")\n"
   ]
  },
  {
   "cell_type": "code",
   "execution_count": null,
   "id": "eed064f7-37e1-45d4-8215-1b1950dda843",
   "metadata": {},
   "outputs": [],
   "source": [
    "cgpa = float(input(\"Enter your CGPA: \"))  # Get CGPA input from the user\n",
    "\n",
    "if 8.0 <= cgpa <= 8.99:  # Check if CGPA is within the specified range\n",
    "    print(\"B grade\")\n",
    "else:\n",
    "    print(\"CGPA does not fall in the B grade range.\")\n",
    "\n"
   ]
  },
  {
   "cell_type": "code",
   "execution_count": 25,
   "id": "70f09455-61b6-478e-9a1c-6d751a6c132b",
   "metadata": {},
   "outputs": [
    {
     "data": {
      "text/plain": [
       "False"
      ]
     },
     "execution_count": 25,
     "metadata": {},
     "output_type": "execute_result"
    }
   ],
   "source": [
    "cgpa>=7.0 and cgpa<=7.99 #C\n",
    "\n"
   ]
  },
  {
   "cell_type": "code",
   "execution_count": 27,
   "id": "c685c1f4-b3f8-4a5f-a2fd-310cc310d9b3",
   "metadata": {},
   "outputs": [
    {
     "data": {
      "text/plain": [
       "False"
      ]
     },
     "execution_count": 27,
     "metadata": {},
     "output_type": "execute_result"
    }
   ],
   "source": [
    "cgpa>=6.0 and cgpa<=6.99 #D"
   ]
  },
  {
   "cell_type": "code",
   "execution_count": 29,
   "id": "7501b8ff-9411-4820-9056-b9d903018ee4",
   "metadata": {},
   "outputs": [
    {
     "data": {
      "text/plain": [
       "False"
      ]
     },
     "execution_count": 29,
     "metadata": {},
     "output_type": "execute_result"
    }
   ],
   "source": [
    "cgpa>=5.0 and cgpa<=5.99 #E"
   ]
  },
  {
   "cell_type": "code",
   "execution_count": 31,
   "id": "c88d47f4-ba13-4088-ac25-9535b95a3aa8",
   "metadata": {},
   "outputs": [
    {
     "data": {
      "text/plain": [
       "False"
      ]
     },
     "execution_count": 31,
     "metadata": {},
     "output_type": "execute_result"
    }
   ],
   "source": [
    "cgpa<5.0 #F"
   ]
  },
  {
   "cell_type": "code",
   "execution_count": null,
   "id": "c70a8a0a-ee18-4914-93bb-86a2bc18f0cd",
   "metadata": {},
   "outputs": [],
   "source": []
  }
 ],
 "metadata": {
  "kernelspec": {
   "display_name": "Python [conda env:base] *",
   "language": "python",
   "name": "conda-base-py"
  },
  "language_info": {
   "codemirror_mode": {
    "name": "ipython",
    "version": 3
   },
   "file_extension": ".py",
   "mimetype": "text/x-python",
   "name": "python",
   "nbconvert_exporter": "python",
   "pygments_lexer": "ipython3",
   "version": "3.12.7"
  },
  "panel-cell-order": [
   "3bc7f6d5-c68d-49ff-8374-eae133f56e6b",
   "19532ef7-08db-413f-b4d1-24fc0eae6b80",
   "28510433-aaf2-4b48-baa7-f8ee3fceec6e",
   "9c7d77d6-0a64-4959-b799-71939ad4e62f",
   "06e5418a-a19b-4e70-98ff-fff41b5a65de",
   "23cda1ec-96f8-483a-8370-c290d420f2bf",
   "5936a81a-73b6-4877-a269-7c7b2e6e7db7",
   "999c61ba-386d-428e-b36a-463b058f5a7e",
   "c57aa394-284d-442f-9a6e-f0632496f403",
   "d4e68d21-9823-449f-9008-116ce93bd533",
   "44b62440-cabf-4531-a832-0b5a5166a764",
   "d25374a0-e14c-4ce4-851e-b03bce6a81f8",
   "653604f8-10e9-47fa-b04e-49589f0460b8",
   "090ade8c-efa1-4448-9f7f-da85db3967a9",
   "53188732-7d1f-4c68-aff3-8136f24adda0",
   "41c1f365-8eb6-46ba-bb40-81156b80fd88"
  ]
 },
 "nbformat": 4,
 "nbformat_minor": 5
}
