{
 "cells": [
  {
   "cell_type": "code",
   "execution_count": 1,
   "id": "b50879fb-9ad6-430f-99f9-37fbfec9d8db",
   "metadata": {},
   "outputs": [
    {
     "name": "stdout",
     "output_type": "stream",
     "text": [
      "yes\n"
     ]
    }
   ],
   "source": [
    "x=9\n",
    "\n",
    "\n",
    "while x<10:\n",
    " print(\"yes\")\n",
    " x=x+1\n",
    "\n",
    "\n"
   ]
  },
  {
   "cell_type": "code",
   "execution_count": 27,
   "id": "c66e6176-921c-403b-bb4f-c7ac671a3d74",
   "metadata": {},
   "outputs": [],
   "source": [
    "dollars=[10,20,3,0,90,5,0,80,75,45,65,55]\n",
    "\n"
   ]
  },
  {
   "cell_type": "code",
   "execution_count": 35,
   "id": "dfd7e271-51b3-409c-910f-ace5e4b2da12",
   "metadata": {},
   "outputs": [
    {
     "data": {
      "text/plain": [
       "[10, 20, 3, 0, 90, 5, 0, 80, 75, 45, 65, 55]"
      ]
     },
     "execution_count": 35,
     "metadata": {},
     "output_type": "execute_result"
    }
   ],
   "source": [
    "dollars\n",
    "\n"
   ]
  },
  {
   "cell_type": "code",
   "execution_count": 55,
   "id": "069cc629-9b4a-4900-9cc8-aab48355d7f8",
   "metadata": {},
   "outputs": [
    {
     "name": "stdout",
     "output_type": "stream",
     "text": [
      "INR: [850.0, 1700.0, 255.0, 0.0, 7650.0, 425.0, 0.0, 6800.0, 6375.0, 3825.0, 5525.0, 4675.0]\n"
     ]
    }
   ],
   "source": [
    "inr = 85.0\n",
    "dollars = [10,20,3,0,90,5,0,80,75,45,65,55]\n",
    "inr_list = [dollars * inr for dollars in dollars]\n",
    "print(\"INR:\", inr_list)\n"
   ]
  },
  {
   "cell_type": "markdown",
   "id": "24464e59-c619-4fea-9a5f-6389df76e8b9",
   "metadata": {},
   "source": [
    "num'"
   ]
  },
  {
   "cell_type": "code",
   "execution_count": 79,
   "id": "9baa8407-dcd7-425f-88a0-056dec879b09",
   "metadata": {},
   "outputs": [
    {
     "name": "stdout",
     "output_type": "stream",
     "text": [
      "even [False, False, True, False, True, True, False, False, False, False, False, False, False, False]\n",
      "odd [True, True, False, True, False, False, True, True, True, True, True, True, True, True]\n"
     ]
    }
   ],
   "source": [
    "num=[31,45,66,33,90,78,67,87,89,93,25,59,9,81]\n",
    "list_1 =[num%2==0 for num in num]\n",
    "list_2 =[num%2==1 for num in num]\n",
    "print(\"even\",list_1)\n",
    "print(\"odd\",list_2)\n",
    "\n",
    "\n",
    "\n"
   ]
  },
  {
   "cell_type": "code",
   "execution_count": 100,
   "id": "d99deebd-fe6a-42d4-a113-4a7eb7ddf0a1",
   "metadata": {},
   "outputs": [
    {
     "ename": "IndentationError",
     "evalue": "unexpected indent (1504156363.py, line 4)",
     "output_type": "error",
     "traceback": [
      "\u001b[1;36m  Cell \u001b[1;32mIn[100], line 4\u001b[1;36m\u001b[0m\n\u001b[1;33m    if i%2==0\u001b[0m\n\u001b[1;37m    ^\u001b[0m\n\u001b[1;31mIndentationError\u001b[0m\u001b[1;31m:\u001b[0m unexpected indent\n"
     ]
    }
   ],
   "source": [
    "j=[]\n",
    "k=[]\n",
    "for i in num:q\n",
    " if i%2==0\n",
    "     j.append(i)\n",
    " else:\n",
    "\n",
    "     k.append(i)\n",
    "\n",
    "\n",
    "\n",
    "\n",
    "\n",
    "\n",
    "\n",
    "\n"
   ]
  },
  {
   "cell_type": "code",
   "execution_count": 93,
   "id": "d83a9f11-0cc9-433a-b2c2-29d4c7309554",
   "metadata": {},
   "outputs": [
    {
     "data": {
      "text/plain": [
       "[66, 90, 78]"
      ]
     },
     "execution_count": 93,
     "metadata": {},
     "output_type": "execute_result"
    }
   ],
   "source": [
    "j"
   ]
  },
  {
   "cell_type": "code",
   "execution_count": 87,
   "id": "9ee01ff2-10e0-4c50-b7fe-aaba50c86865",
   "metadata": {},
   "outputs": [
    {
     "data": {
      "text/plain": [
       "[31, 45, 33, 67, 87, 89, 93, 25, 59, 9, 81]"
      ]
     },
     "execution_count": 87,
     "metadata": {},
     "output_type": "execute_result"
    }
   ],
   "source": [
    "k"
   ]
  },
  {
   "cell_type": "code",
   "execution_count": 114,
   "id": "5d1031e0-191a-442e-9a43-0f08b5c4cb2a",
   "metadata": {},
   "outputs": [
    {
     "name": "stdout",
     "output_type": "stream",
     "text": [
      "['39', '45', '39', '69', '87', '89', '93', '25', '59', '9', '81']\n"
     ]
    }
   ],
   "source": [
    "u = []\n",
    "num = [39, 45, 39, 69, 87, 89, 93, 25, 59, 9, 81]\n",
    "\n",
    "for i in num:\n",
    "    u.append(str(i))\n",
    "\n",
    "print(u)\n",
    "\n",
    "\n",
    "\n",
    "\n"
   ]
  },
  {
   "cell_type": "code",
   "execution_count": 122,
   "id": "0920ce5f-0371-495f-a1b4-73f9406e1dc4",
   "metadata": {},
   "outputs": [
    {
     "name": "stdout",
     "output_type": "stream",
     "text": [
      "['31', '45', '31', '69', '87', '89', '93', '25', '59', '9', '81']\n"
     ]
    }
   ],
   "source": [
    "num = [39, 45, 39, 69, 87, 89, 93, 25, 59, 9, 81]\n",
    "u = [str(i) for i in num]  \n",
    "u = ['31' if i == '39' else i for i in u]\n",
    "\n",
    "print(u)\n"
   ]
  },
  {
   "cell_type": "code",
   "execution_count": null,
   "id": "8797c70d-440f-4762-b58c-51438726783d",
   "metadata": {},
   "outputs": [],
   "source": [
    "\n",
    "\n"
   ]
  }
 ],
 "metadata": {
  "kernelspec": {
   "display_name": "Python [conda env:base] *",
   "language": "python",
   "name": "conda-base-py"
  },
  "language_info": {
   "codemirror_mode": {
    "name": "ipython",
    "version": 3
   },
   "file_extension": ".py",
   "mimetype": "text/x-python",
   "name": "python",
   "nbconvert_exporter": "python",
   "pygments_lexer": "ipython3",
   "version": "3.12.7"
  }
 },
 "nbformat": 4,
 "nbformat_minor": 5
}
